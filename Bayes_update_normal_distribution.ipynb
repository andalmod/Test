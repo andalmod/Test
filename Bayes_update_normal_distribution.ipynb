{
  "nbformat": 4,
  "nbformat_minor": 0,
  "metadata": {
    "colab": {
      "name": "Bayes update normal distribution.ipynb",
      "provenance": [],
      "authorship_tag": "ABX9TyOq8n1c7TiURV3TI8kJBR/n",
      "include_colab_link": true
    },
    "kernelspec": {
      "name": "python3",
      "display_name": "Python 3"
    }
  },
  "cells": [
    {
      "cell_type": "markdown",
      "metadata": {
        "id": "view-in-github",
        "colab_type": "text"
      },
      "source": [
        "<a href=\"https://colab.research.google.com/github/andalmod/Test/blob/main/Bayes_update_normal_distribution.ipynb\" target=\"_parent\"><img src=\"https://colab.research.google.com/assets/colab-badge.svg\" alt=\"Open In Colab\"/></a>"
      ]
    },
    {
      "cell_type": "code",
      "metadata": {
        "colab": {
          "base_uri": "https://localhost:8080/"
        },
        "id": "T4KqPGOLC2Xg",
        "outputId": "b8b4cd0f-202c-4dd4-d206-7b228ad9aac9"
      },
      "source": [
        "# If we're running on Colab, install empiricaldist\r\n",
        "# https://pypi.org/project/empiricaldist/\r\n",
        "\r\n",
        "import sys\r\n",
        "IN_COLAB = 'google.colab' in sys.modules\r\n",
        "\r\n",
        "if IN_COLAB:\r\n",
        "    !pip install empiricaldist\r\n",
        "    !pip install pymc3>=3.8"
      ],
      "execution_count": 1,
      "outputs": [
        {
          "output_type": "stream",
          "text": [
            "Collecting empiricaldist\n",
            "  Downloading https://files.pythonhosted.org/packages/f0/44/4b78042efbde4ba9d2f840c774d37a609d9ba6dcf87b8320b02c14b7f018/empiricaldist-0.6.0.tar.gz\n",
            "Building wheels for collected packages: empiricaldist\n",
            "  Building wheel for empiricaldist (setup.py) ... \u001b[?25l\u001b[?25hdone\n",
            "  Created wheel for empiricaldist: filename=empiricaldist-0.6.0-cp36-none-any.whl size=10357 sha256=1df946424014512db431d1e343c6bbbb340d6221500e8fa0cfca95d60dff31ad\n",
            "  Stored in directory: /root/.cache/pip/wheels/a7/18/38/f4791357371b1d677a885149b397cb1437c0ea88939ab642e7\n",
            "Successfully built empiricaldist\n",
            "Installing collected packages: empiricaldist\n",
            "Successfully installed empiricaldist-0.6.0\n"
          ],
          "name": "stdout"
        }
      ]
    },
    {
      "cell_type": "markdown",
      "metadata": {
        "id": "-fJhuMyOyxc9"
      },
      "source": [
        "Thanks to Allen Downey.\r\n",
        "\r\n",
        "https://youtu.be/EYS3oDhLsP0\r\n"
      ]
    },
    {
      "cell_type": "code",
      "metadata": {
        "id": "jt_hDrHlC2aZ"
      },
      "source": [
        "from empiricaldist import Cdf\r\n",
        "\r\n",
        "def plot_cdf(sample, **options):\r\n",
        "    \"\"\"Compute and plot the CDF of a sample.\"\"\"\r\n",
        "    Cdf.from_seq(sample).plot(**options)\r\n",
        "def set_colors():\r\n",
        "    \"\"\"Set the color cycle for goals\"\"\"\r\n",
        "    plt.gca().set_prop_cycle(color=['#2ca02c', '#9467bd',])"
      ],
      "execution_count": 2,
      "outputs": []
    },
    {
      "cell_type": "code",
      "metadata": {
        "id": "fnKk601hC2db"
      },
      "source": [
        "def quantiles(array):\r\n",
        "  lb=np.quantile(array,0.025)\r\n",
        "  ub=np.quantile(array,0.975)\r\n",
        "  return lb,ub"
      ],
      "execution_count": 3,
      "outputs": []
    },
    {
      "cell_type": "code",
      "metadata": {
        "id": "-FvhEg-yiN4c"
      },
      "source": [
        "import pymc3 as pm\r\n",
        "import numpy as np\r\n",
        "from matplotlib import pyplot as plt\r\n",
        "from scipy.stats import norm\r\n",
        "from scipy.stats import halfnorm\r\n",
        "import pandas as pd"
      ],
      "execution_count": 4,
      "outputs": []
    },
    {
      "cell_type": "markdown",
      "metadata": {
        "id": "wxu91UojiOtq"
      },
      "source": [
        "Suppose the cost of something follows a Normal distribution (80,10)"
      ]
    },
    {
      "cell_type": "code",
      "metadata": {
        "id": "nJJva-JSiXVB"
      },
      "source": [
        "cost_r=norm(80,10)"
      ],
      "execution_count": 5,
      "outputs": []
    },
    {
      "cell_type": "code",
      "metadata": {
        "id": "U1A1v-_wijZx"
      },
      "source": [
        "# Suppose we have some samples from the real distribution\r\n",
        "size=10\r\n",
        "samples=cost_r.rvs(size)"
      ],
      "execution_count": 13,
      "outputs": []
    },
    {
      "cell_type": "code",
      "metadata": {
        "id": "cCbQrS3NiivF"
      },
      "source": [
        "#We have some prior assumptions about the parameters of the distribution\r\n",
        "#Let's sample from that prior\r\n",
        "\r\n",
        "model=pm.Model()\r\n",
        "\r\n",
        "with model:\r\n",
        "    # define priors\r\n",
        "    mu = pm.Normal('mu', 100, 20)\r\n",
        "    sigma = pm.HalfNormal('sigma', 25)\r\n",
        "    prior=pm.Normal('prior',mu,sigma)\r\n",
        "\r\n",
        "    trace_p = pm.sample_prior_predictive(1000)"
      ],
      "execution_count": 14,
      "outputs": []
    },
    {
      "cell_type": "code",
      "metadata": {
        "colab": {
          "base_uri": "https://localhost:8080/"
        },
        "id": "YfSrAq9Yiixv",
        "outputId": "284c24a6-ce12-44e1-c9a1-0604ab56dfe6"
      },
      "source": [
        "# Now we use the data to update our distribution.\r\n",
        "# Let's sample now from the posterior\r\n",
        "\r\n",
        "model1=pm.Model()\r\n",
        "\r\n",
        "with model1:\r\n",
        "\r\n",
        "  mu = pm.Normal('mu', 100, 20)\r\n",
        "  sigma = pm.HalfNormal('sigma', 25)\r\n",
        "\r\n",
        "  obs=pm.Normal('observation', mu,sigma, observed=samples)\r\n",
        "\r\n",
        "  trace = pm.sample(1000)\r\n",
        "  post_pred = pm.sample_posterior_predictive(trace, samples=1000)\r\n",
        "\r\n"
      ],
      "execution_count": 15,
      "outputs": [
        {
          "output_type": "stream",
          "text": [
            "Auto-assigning NUTS sampler...\n",
            "Initializing NUTS using jitter+adapt_diag...\n",
            "Sequential sampling (2 chains in 1 job)\n",
            "NUTS: [sigma, mu]\n",
            "100%|██████████| 1500/1500 [00:01<00:00, 1375.84it/s]\n",
            "100%|██████████| 1500/1500 [00:00<00:00, 1515.29it/s]\n",
            "100%|██████████| 1000/1000 [00:00<00:00, 1092.02it/s]\n"
          ],
          "name": "stderr"
        }
      ]
    },
    {
      "cell_type": "code",
      "metadata": {
        "id": "CcU7cwt4ii0q"
      },
      "source": [
        "#Now we take samples from prior, posterior and real and store them in numpy arrays.\r\n",
        "\r\n",
        "\r\n",
        "pp=post_pred['observation'].flatten()\r\n",
        "size=1000\r\n",
        "samples_r=cost_r.rvs(size)\r\n",
        "\r\n",
        "# These are the final numpy arrays containing the information we want\r\n",
        "\r\n",
        "pr=trace_p['prior']\r\n",
        "post=pp\r\n",
        "real=samples_r\r\n",
        "\r\n",
        "\r\n"
      ],
      "execution_count": 16,
      "outputs": []
    },
    {
      "cell_type": "code",
      "metadata": {
        "colab": {
          "base_uri": "https://localhost:8080/",
          "height": 592
        },
        "id": "qjoMCLqBii3X",
        "outputId": "d897b2e7-c4f1-4ce0-a552-93108f174b3a"
      },
      "source": [
        "#Now let's plot the results.\r\n",
        "#It's interesting to play with the size of the sample from the real distribution \r\n",
        "#in order to see how little data is needed to approach the real distribution very well.\r\n",
        "#A frequentist could never have reached these useful results.\r\n",
        "\r\n",
        "set_colors()\r\n",
        "plot_cdf(pr, color='green', label='prior cdf',figsize=(10,10))\r\n",
        "plot_cdf(post, color='red', label='posterior cdf')\r\n",
        "plot_cdf(real, color='blue', label='real cdf')\r\n",
        "plt.legend()\r\n",
        "plt.grid();"
      ],
      "execution_count": 17,
      "outputs": [
        {
          "output_type": "display_data",
          "data": {
            "image/png": "[encoded data removed]",
            "text/plain": [
              "<Figure size 720x720 with 1 Axes>"
            ]
          },
          "metadata": {
            "tags": [],
            "needs_background": "light"
          }
        }
      ]
    },
    {
      "cell_type": "code",
      "metadata": {
        "id": "bmk2JEC-ii6B",
        "colab": {
          "base_uri": "https://localhost:8080/",
          "height": 137
        },
        "outputId": "dee48b0a-404f-4712-b66e-f9f5cdaaf757"
      },
      "source": [
        "# Let's get the quantiles for 95% confidence interval and show them\r\n",
        "\r\n",
        "lb_prior,ub_prior=quantiles(pr)\r\n",
        "lb_post,ub_post=quantiles(post)\r\n",
        "lb_r,ub_r=quantiles(real)\r\n",
        "\r\n",
        "index=['priori','posteriori','real']\r\n",
        "columns=['distirb.','quant 2.5','quant 97.5']\r\n",
        "q2_5=[lb_prior,lb_post,lb_r]\r\n",
        "q97_5=[ub_prior,ub_post,ub_r]\r\n",
        "\r\n",
        "df=pd.DataFrame(index=index)\r\n",
        "\r\n",
        "df['quant 2.5']=q2_5\r\n",
        "df['quant 97.5']=q97_5\r\n",
        "\r\n",
        "df\r\n"
      ],
      "execution_count": 19,
      "outputs": [
        {
          "output_type": "execute_result",
          "data": {
            "text/html": [
              "<div>\n",
              "<style scoped>\n",
              "    .dataframe tbody tr th:only-of-type {\n",
              "        vertical-align: middle;\n",
              "    }\n",
              "\n",
              "    .dataframe tbody tr th {\n",
              "        vertical-align: top;\n",
              "    }\n",
              "\n",
              "    .dataframe thead th {\n",
              "        text-align: right;\n",
              "    }\n",
              "</style>\n",
              "<table border=\"1\" class=\"dataframe\">\n",
              "  <thead>\n",
              "    <tr style=\"text-align: right;\">\n",
              "      <th></th>\n",
              "      <th>quant 2.5</th>\n",
              "      <th>quant 97.5</th>\n",
              "    </tr>\n",
              "  </thead>\n",
              "  <tbody>\n",
              "    <tr>\n",
              "      <th>priori</th>\n",
              "      <td>34.138312</td>\n",
              "      <td>159.221342</td>\n",
              "    </tr>\n",
              "    <tr>\n",
              "      <th>posteriori</th>\n",
              "      <td>56.623042</td>\n",
              "      <td>98.456096</td>\n",
              "    </tr>\n",
              "    <tr>\n",
              "      <th>real</th>\n",
              "      <td>61.583736</td>\n",
              "      <td>99.187652</td>\n",
              "    </tr>\n",
              "  </tbody>\n",
              "</table>\n",
              "</div>"
            ],
            "text/plain": [
              "            quant 2.5  quant 97.5\n",
              "priori      34.138312  159.221342\n",
              "posteriori  56.623042   98.456096\n",
              "real        61.583736   99.187652"
            ]
          },
          "metadata": {
            "tags": []
          },
          "execution_count": 19
        }
      ]
    },
    {
      "cell_type": "code",
      "metadata": {
        "id": "g8TKhfR_uWSz"
      },
      "source": [
        ""
      ],
      "execution_count": null,
      "outputs": []
    }
  ]
}