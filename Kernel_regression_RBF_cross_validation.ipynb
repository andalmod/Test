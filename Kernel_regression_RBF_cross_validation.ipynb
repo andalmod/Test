{
  "nbformat": 4,
  "nbformat_minor": 0,
  "metadata": {
    "colab": {
      "name": "Kernel regression-RBF-cross validation.ipynb",
      "provenance": [],
      "authorship_tag": "ABX9TyOocg/TwEj3iZe18seuIOWM",
      "include_colab_link": true
    },
    "kernelspec": {
      "name": "python3",
      "display_name": "Python 3"
    }
  },
  "cells": [
    {
      "cell_type": "markdown",
      "metadata": {
        "id": "view-in-github",
        "colab_type": "text"
      },
      "source": [
        "<a href=\"https://colab.research.google.com/github/andalmod/Test/blob/main/Kernel_regression_RBF_cross_validation.ipynb\" target=\"_parent\"><img src=\"https://colab.research.google.com/assets/colab-badge.svg\" alt=\"Open In Colab\"/></a>"
      ]
    },
    {
      "cell_type": "code",
      "metadata": {
        "id": "9y7f68fCJXE3"
      },
      "source": [
        "import numpy as np\r\n",
        "from sklearn.model_selection import train_test_split\r\n",
        "import pandas as pd\r\n",
        "import matplotlib.pyplot as plt\r\n"
      ],
      "execution_count": null,
      "outputs": []
    },
    {
      "cell_type": "markdown",
      "metadata": {
        "id": "B1MYZQcLhqS2"
      },
      "source": [
        "https://youtu.be/hrIad1RVFV0?list=PLE6Wd9FR--EdyJ5lbFl8UuGjecvVw66F6"
      ]
    },
    {
      "cell_type": "markdown",
      "metadata": {
        "id": "Q2NM8yPNR4Kh"
      },
      "source": [
        "# Kernel regression and RBFs"
      ]
    },
    {
      "cell_type": "code",
      "metadata": {
        "id": "Bplb3eIVSF0A"
      },
      "source": [
        "# Real unknown function\r\n",
        "\r\n",
        "#  Train data\r\n",
        "N=50\r\n",
        "σ=20\r\n",
        "noise=np.random.normal(0,σ,N)\r\n",
        "#x=np.random.uniform(0,10,size=N)\r\n",
        "x=np.linspace(0,10,N)\r\n",
        "y=3*x**2+10+noise\r\n",
        "\r\n",
        "# Test data\r\n",
        "\r\n",
        "n=50\r\n",
        "\r\n",
        "xtest=np.linspace(1,8,n)\r\n",
        "\r\n",
        "noise=np.random.normal(0,σ,n)\r\n",
        "ytest=3*xtest**2+10+noise\r\n",
        "\r\n"
      ],
      "execution_count": null,
      "outputs": []
    },
    {
      "cell_type": "code",
      "metadata": {
        "id": "TeQu4ovUhyZ_"
      },
      "source": [
        "# KERNEL\r\n",
        "\r\n",
        "def fi(x,lam,mu_i):\r\n",
        "  return np.exp(-1/lam*(x-mu_i)**2)"
      ],
      "execution_count": null,
      "outputs": []
    },
    {
      "cell_type": "code",
      "metadata": {
        "id": "Sqbb5hCM3cLi"
      },
      "source": [
        "\r\n",
        "\r\n",
        "def calcular(lam,del_2):\r\n",
        "\r\n",
        "  ##### TRAINING ##########\r\n",
        "\r\n",
        "  # genero la matriz fi\r\n",
        "\r\n",
        "  ϕ=np.ones((N,1))\r\n",
        "\r\n",
        "  for mu_i in x:\r\n",
        "    fi_i=fi(x,lam,mu_i).reshape(-1,1)\r\n",
        "    ϕ=np.hstack((fi_i,ϕ))\r\n",
        "\r\n",
        "  ϕ=np.flip(ϕ,axis=1)\r\n",
        "\r\n",
        "  # Calculo teta_hat.\r\n",
        "\r\n",
        "  size=ϕ.shape[1]\r\n",
        "\r\n",
        "  δ_2=del_2\r\n",
        "\r\n",
        "  delta_Id=δ_2*np.eye(size)\r\n",
        "\r\n",
        "  θ_hat=np.linalg.inv(ϕ.T.dot(ϕ)+delta_Id).dot(ϕ.T).dot(y)\r\n",
        "\r\n",
        "  # calculo el y_predicted.\r\n",
        "\r\n",
        "  yp=ϕ.dot(θ_hat)\r\n",
        "\r\n",
        "  ####### TEST  ############\r\n",
        "  # genero la matriz fi\r\n",
        "  ϕ_test=np.ones((n,1))\r\n",
        "\r\n",
        "  for mu_i in x:\r\n",
        "    fi_i=fi(xtest,lam,mu_i).reshape(-1,1)\r\n",
        "    ϕ_test=np.hstack((fi_i,ϕ_test))\r\n",
        "\r\n",
        "  ϕ_test=np.flip(ϕ_test,axis=1)\r\n",
        "  # calculo el y_predicted.\r\n",
        "  ytest_p=ϕ_test.dot(θ_hat)\r\n",
        "\r\n",
        "  err_train=((y-yp)**2).mean()\r\n",
        "  err_test=((ytest_p-ytest)**2).mean()\r\n",
        "\r\n",
        "  return err_train,err_test\r\n",
        "\r\n"
      ],
      "execution_count": null,
      "outputs": []
    },
    {
      "cell_type": "code",
      "metadata": {
        "id": "ehAZRXMr3cOb"
      },
      "source": [
        "# GRID SEARCH\r\n",
        "\r\n",
        "lambdas=[0.1,1,10]\r\n",
        "deltas=[0.1,1,10]\r\n",
        "list_l=[]\r\n",
        "list_d=[]\r\n",
        "train_err=[]\r\n",
        "test_err=[]"
      ],
      "execution_count": null,
      "outputs": []
    },
    {
      "cell_type": "code",
      "metadata": {
        "id": "hjKTPmX23cQy"
      },
      "source": [
        "for l in lambdas:\r\n",
        "  for d in deltas:\r\n",
        "    list_l.append(l)\r\n",
        "    list_d.append(d)\r\n",
        "    a,b=calcular(l,d)\r\n",
        "    train_err.append(a)\r\n",
        "    test_err.append(b)\r\n",
        "\r\n"
      ],
      "execution_count": null,
      "outputs": []
    },
    {
      "cell_type": "code",
      "metadata": {
        "id": "w_vhpXut3cT7"
      },
      "source": [
        "df=pd.DataFrame()\r\n",
        "df['lambdas']=list_l\r\n",
        "df['deltas']=list_d\r\n",
        "df['train_err']=train_err\r\n",
        "df['test_err']=test_err\r\n",
        "df['max']=max(train_err,test_err)\r\n"
      ],
      "execution_count": null,
      "outputs": []
    },
    {
      "cell_type": "code",
      "metadata": {
        "colab": {
          "base_uri": "https://localhost:8080/",
          "height": 317
        },
        "id": "TS-XQO7A3cWR",
        "outputId": "63570fab-55b5-4d11-cbd2-496c5c5d2a14"
      },
      "source": [
        "df"
      ],
      "execution_count": null,
      "outputs": [
        {
          "output_type": "execute_result",
          "data": {
            "text/html": [
              "<div>\n",
              "<style scoped>\n",
              "    .dataframe tbody tr th:only-of-type {\n",
              "        vertical-align: middle;\n",
              "    }\n",
              "\n",
              "    .dataframe tbody tr th {\n",
              "        vertical-align: top;\n",
              "    }\n",
              "\n",
              "    .dataframe thead th {\n",
              "        text-align: right;\n",
              "    }\n",
              "</style>\n",
              "<table border=\"1\" class=\"dataframe\">\n",
              "  <thead>\n",
              "    <tr style=\"text-align: right;\">\n",
              "      <th></th>\n",
              "      <th>lambdas</th>\n",
              "      <th>deltas</th>\n",
              "      <th>train_err</th>\n",
              "      <th>test_err</th>\n",
              "      <th>max</th>\n",
              "    </tr>\n",
              "  </thead>\n",
              "  <tbody>\n",
              "    <tr>\n",
              "      <th>0</th>\n",
              "      <td>0.1</td>\n",
              "      <td>0.1</td>\n",
              "      <td>112.446513</td>\n",
              "      <td>564.242337</td>\n",
              "      <td>564.242337</td>\n",
              "    </tr>\n",
              "    <tr>\n",
              "      <th>1</th>\n",
              "      <td>0.1</td>\n",
              "      <td>1.0</td>\n",
              "      <td>375.578042</td>\n",
              "      <td>521.331437</td>\n",
              "      <td>521.331437</td>\n",
              "    </tr>\n",
              "    <tr>\n",
              "      <th>2</th>\n",
              "      <td>0.1</td>\n",
              "      <td>10.0</td>\n",
              "      <td>3741.998683</td>\n",
              "      <td>1450.829715</td>\n",
              "      <td>1450.829715</td>\n",
              "    </tr>\n",
              "    <tr>\n",
              "      <th>3</th>\n",
              "      <td>1.0</td>\n",
              "      <td>0.1</td>\n",
              "      <td>303.630103</td>\n",
              "      <td>458.859815</td>\n",
              "      <td>458.859815</td>\n",
              "    </tr>\n",
              "    <tr>\n",
              "      <th>4</th>\n",
              "      <td>1.0</td>\n",
              "      <td>1.0</td>\n",
              "      <td>360.789538</td>\n",
              "      <td>443.625590</td>\n",
              "      <td>443.625590</td>\n",
              "    </tr>\n",
              "    <tr>\n",
              "      <th>5</th>\n",
              "      <td>1.0</td>\n",
              "      <td>10.0</td>\n",
              "      <td>876.645632</td>\n",
              "      <td>443.505257</td>\n",
              "      <td>443.505257</td>\n",
              "    </tr>\n",
              "    <tr>\n",
              "      <th>6</th>\n",
              "      <td>10.0</td>\n",
              "      <td>0.1</td>\n",
              "      <td>319.955896</td>\n",
              "      <td>399.313100</td>\n",
              "      <td>399.313100</td>\n",
              "    </tr>\n",
              "    <tr>\n",
              "      <th>7</th>\n",
              "      <td>10.0</td>\n",
              "      <td>1.0</td>\n",
              "      <td>417.279646</td>\n",
              "      <td>401.530253</td>\n",
              "      <td>401.530253</td>\n",
              "    </tr>\n",
              "    <tr>\n",
              "      <th>8</th>\n",
              "      <td>10.0</td>\n",
              "      <td>10.0</td>\n",
              "      <td>818.371688</td>\n",
              "      <td>529.837696</td>\n",
              "      <td>529.837696</td>\n",
              "    </tr>\n",
              "  </tbody>\n",
              "</table>\n",
              "</div>"
            ],
            "text/plain": [
              "   lambdas  deltas    train_err     test_err          max\n",
              "0      0.1     0.1   112.446513   564.242337   564.242337\n",
              "1      0.1     1.0   375.578042   521.331437   521.331437\n",
              "2      0.1    10.0  3741.998683  1450.829715  1450.829715\n",
              "3      1.0     0.1   303.630103   458.859815   458.859815\n",
              "4      1.0     1.0   360.789538   443.625590   443.625590\n",
              "5      1.0    10.0   876.645632   443.505257   443.505257\n",
              "6     10.0     0.1   319.955896   399.313100   399.313100\n",
              "7     10.0     1.0   417.279646   401.530253   401.530253\n",
              "8     10.0    10.0   818.371688   529.837696   529.837696"
            ]
          },
          "metadata": {
            "tags": []
          },
          "execution_count": 59
        }
      ]
    },
    {
      "cell_type": "code",
      "metadata": {
        "id": "JsB0mnsV3cZX"
      },
      "source": [
        "min_max=min(df['max'])"
      ],
      "execution_count": null,
      "outputs": []
    },
    {
      "cell_type": "code",
      "metadata": {
        "colab": {
          "base_uri": "https://localhost:8080/"
        },
        "id": "nkNkmWgt3cbu",
        "outputId": "bbe78359-484c-4055-dd85-61b9cc93c2ba"
      },
      "source": [
        "min_max"
      ],
      "execution_count": null,
      "outputs": [
        {
          "output_type": "execute_result",
          "data": {
            "text/plain": [
              "399.3130997785171"
            ]
          },
          "metadata": {
            "tags": []
          },
          "execution_count": 61
        }
      ]
    },
    {
      "cell_type": "code",
      "metadata": {
        "id": "HWEFZ5Bq3cey"
      },
      "source": [
        "ind_min_max=df[df['max']==min_max].index.values"
      ],
      "execution_count": null,
      "outputs": []
    },
    {
      "cell_type": "code",
      "metadata": {
        "id": "BqzcPjWW6owy"
      },
      "source": [
        "lan_opt=float(df['lambdas'].iloc[ind_min_max].values)\r\n",
        "del_opt=float(df['deltas'].iloc[ind_min_max].values)\r\n"
      ],
      "execution_count": null,
      "outputs": []
    },
    {
      "cell_type": "markdown",
      "metadata": {
        "id": "i4yQnzfRB-uD"
      },
      "source": [
        "# Ahora vemos cómo queda con los parámetros \"óptimos\""
      ]
    },
    {
      "cell_type": "code",
      "metadata": {
        "colab": {
          "base_uri": "https://localhost:8080/",
          "height": 264
        },
        "id": "l9YyVUtRkfyw",
        "outputId": "e74252f0-46d0-4e06-fd16-20eea36f5bfd"
      },
      "source": [
        "lam=lan_opt\r\n",
        "δ_2=del_opt\r\n",
        "\r\n",
        "\r\n",
        "ϕ=np.ones((N,1))\r\n",
        "\r\n",
        "for mu_i in x:\r\n",
        "  fi_i=fi(x,lam,mu_i).reshape(-1,1)\r\n",
        "  ϕ=np.hstack((fi_i,ϕ))\r\n",
        "\r\n",
        "ϕ=np.flip(ϕ,axis=1)\r\n",
        "\r\n",
        "size=ϕ.shape[1]\r\n",
        "\r\n",
        "\r\n",
        "delta_Id=δ_2*np.eye(size)\r\n",
        "\r\n",
        "θ_hat=np.linalg.inv(ϕ.T.dot(ϕ)+delta_Id).dot(ϕ.T).dot(y)\r\n",
        "\r\n",
        "yp=ϕ.dot(θ_hat)\r\n",
        "\r\n",
        "\r\n",
        "plt.scatter(x,y,color='r')\r\n",
        "plt.plot(x,yp);\r\n",
        "\r\n"
      ],
      "execution_count": null,
      "outputs": [
        {
          "output_type": "display_data",
          "data": {
            "image/png": "[encoded data removed]",
            "text/plain": [
              "<Figure size 432x288 with 1 Axes>"
            ]
          },
          "metadata": {
            "tags": [],
            "needs_background": "light"
          }
        }
      ]
    },
    {
      "cell_type": "code",
      "metadata": {
        "id": "vmZY-7NN9QnN"
      },
      "source": [
        "n=50\r\n",
        "\r\n",
        "xtest=np.linspace(1,8,n)\r\n",
        "\r\n",
        "\r\n",
        "noise=np.random.normal(0,σ,n)\r\n",
        "ytest=3*xtest**2+10+noise\r\n",
        "\r\n",
        "\r\n",
        "ϕ_test=np.ones((n,1))\r\n",
        "\r\n",
        "for mu_i in x:\r\n",
        "  fi_i=fi(xtest,lam,mu_i).reshape(-1,1)\r\n",
        "  ϕ_test=np.hstack((fi_i,ϕ_test))\r\n",
        "\r\n",
        "ϕ_test=np.flip(ϕ_test,axis=1)\r\n",
        "\r\n",
        "ytest_p=ϕ_test.dot(θ_hat)\r\n",
        "\r\n"
      ],
      "execution_count": null,
      "outputs": []
    },
    {
      "cell_type": "code",
      "metadata": {
        "colab": {
          "base_uri": "https://localhost:8080/",
          "height": 264
        },
        "id": "1SSeX_oduJ0y",
        "outputId": "241c99a7-7a85-48f8-c2ca-18691d5ffc22"
      },
      "source": [
        "plt.scatter(x,y,color='r')\r\n",
        "plt.scatter(xtest,ytest,color='g')\r\n",
        "plt.plot(xtest,ytest_p,color='g')\r\n",
        "plt.plot(x,yp);\r\n",
        "\r\n"
      ],
      "execution_count": null,
      "outputs": [
        {
          "output_type": "display_data",
          "data": {
            "image/png": "[encoded data removed]",
            "text/plain": [
              "<Figure size 432x288 with 1 Axes>"
            ]
          },
          "metadata": {
            "tags": [],
            "needs_background": "light"
          }
        }
      ]
    },
    {
      "cell_type": "code",
      "metadata": {
        "colab": {
          "base_uri": "https://localhost:8080/"
        },
        "id": "HRgu1wtkuRoA",
        "outputId": "23495b31-49c4-42ef-9580-4e04683f9352"
      },
      "source": [
        "((ytest-ytest_p)**2).mean()"
      ],
      "execution_count": null,
      "outputs": [
        {
          "output_type": "execute_result",
          "data": {
            "text/plain": [
              "376.52550256705496"
            ]
          },
          "metadata": {
            "tags": []
          },
          "execution_count": 67
        }
      ]
    },
    {
      "cell_type": "code",
      "metadata": {
        "colab": {
          "base_uri": "https://localhost:8080/"
        },
        "id": "lJFq9bx-2TOa",
        "outputId": "1b1fecaf-9798-4606-b628-716b67c293a1"
      },
      "source": [
        "((y-yp)**2).mean()"
      ],
      "execution_count": null,
      "outputs": [
        {
          "output_type": "execute_result",
          "data": {
            "text/plain": [
              "319.95589646347776"
            ]
          },
          "metadata": {
            "tags": []
          },
          "execution_count": 68
        }
      ]
    },
    {
      "cell_type": "code",
      "metadata": {
        "id": "wQOsqytz2fQx"
      },
      "source": [
        ""
      ],
      "execution_count": null,
      "outputs": []
    }
  ]
}